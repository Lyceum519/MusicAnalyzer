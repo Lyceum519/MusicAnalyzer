{
 "cells": [
  {
   "cell_type": "code",
   "execution_count": 37,
   "metadata": {},
   "outputs": [
    {
     "name": "stdout",
     "output_type": "stream",
     "text": [
      "[ 0.  0.  0. ...,  0.  0.  0.]\n",
      "171648\n",
      "8083008\n",
      "44100\n",
      "44100\n",
      "1.00176480616\n"
     ]
    }
   ],
   "source": [
    "from __future__ import print_function\n",
    "\n",
    "# We'll need numpy for some mathematical operations\n",
    "import numpy as np\n",
    "import scipy\n",
    "\n",
    "# matplotlib for displaying the output\n",
    "import matplotlib.pyplot as plt\n",
    "import matplotlib.style as ms\n",
    "ms.use('seaborn-muted')\n",
    "%matplotlib inline\n",
    "\n",
    "\n",
    "# and IPython.display for audio output\n",
    "import IPython.display\n",
    "\n",
    "\n",
    "# Librosa for audio\n",
    "import librosa\n",
    "# And the display module for visualization\n",
    "import librosa.display\n",
    "\n",
    "audio_path = \"/Users/lineplus/Desktop/project/MusicAnalyzer/audio/Drum1.mp3\"\n",
    "audio_path2 = \"/Users/lineplus/Desktop/project/MusicAnalyzer/audio/Odesza_Above_The_Middle.mp3\"\n",
    "y, sr = librosa.load( audio_path, sr=44100 )\n",
    "y2, sr2 = librosa.load( audio_path2, sr=44100 )\n",
    "\n",
    "#IPython.display.Audio(data=y, rate=sr)\n",
    "print( y )\n",
    "print( len( y ) )\n",
    "print( len( y2 ) )\n",
    "\n",
    "print( sr )\n",
    "print( sr2 )\n",
    "\n",
    "print( scipy.spatial.distance.cosine( y, y2[0:171648] ) )"
   ]
  },
  {
   "cell_type": "code",
   "execution_count": 5,
   "metadata": {},
   "outputs": [
    {
     "name": "stdout",
     "output_type": "stream",
     "text": [
      "Estimated tempo: 99.38 beats per minute\n",
      "Saving output to beat_times.csv\n"
     ]
    }
   ],
   "source": [
    "# 3. Run the default beat tracker\n",
    "tempo, beat_frames = librosa.beat.beat_track(y=y, sr=sr)\n",
    "\n",
    "print('Estimated tempo: {:.2f} beats per minute'.format(tempo))\n",
    "\n",
    "# 4. Convert the frame indices of beat events into timestamps\n",
    "beat_times = librosa.frames_to_time(beat_frames, sr=sr)\n",
    "\n",
    "print('Saving output to beat_times.csv')\n",
    "librosa.output.times_csv('/Users/lineplus/Desktop/project/MusicAnalyzer/audio/result.csv', beat_times)"
   ]
  },
  {
   "cell_type": "code",
   "execution_count": 8,
   "metadata": {},
   "outputs": [
    {
     "name": "stdout",
     "output_type": "stream",
     "text": [
      "99.3840144231\n",
      "[ 12  38  64  95 121]\n",
      "[ 0.27863946  0.88235828  1.4860771   2.20589569  2.80961451]\n"
     ]
    }
   ],
   "source": [
    "print( tempo )\n",
    "print( beat_frames )\n",
    "print( beat_times )"
   ]
  },
  {
   "cell_type": "code",
   "execution_count": 21,
   "metadata": {},
   "outputs": [
    {
     "name": "stdout",
     "output_type": "stream",
     "text": [
      "[[ 0.         -0.90861386  0.00773705 ..., -0.14220695  0.24075744\n",
      "  -0.08692633]\n",
      " [ 0.         -0.87283039  0.0442284  ..., -0.10004218  0.23656647\n",
      "  -0.09058234]\n",
      " [ 0.         -0.89167589  0.04157569 ..., -0.09503061  0.22459549\n",
      "  -0.11358088]\n",
      " ..., \n",
      " [-0.02395119  0.002145   -0.00423921 ..., -0.04312833  0.01478363  0.        ]\n",
      " [-0.0163303   0.00313669 -0.01180221 ..., -0.03618175  0.00881893  0.        ]\n",
      " [-0.0230791   0.00459595 -0.00822684 ..., -0.05059324  0.00875308  0.        ]]\n",
      "[[  5.89917436e-05  -1.78596703e-04   9.54093132e-03 ...,   7.08066409e-06\n",
      "   -2.89536711e-05   2.69479500e-07]\n",
      " [ -4.36029695e-05  -9.25666303e-04  -4.81339113e-04 ...,   1.13831420e-05\n",
      "   -3.22506967e-05  -5.60235307e-08]\n",
      " [ -4.41918382e-05   1.10449665e-03  -6.86202710e-03 ...,  -1.06570906e-06\n",
      "   -2.60917532e-05   1.07385965e-07]\n",
      " ..., \n",
      " [  3.12932934e-05  -7.87355006e-03   1.27840792e-06 ...,   9.56925983e-10\n",
      "   -4.10827766e-07   5.62528800e-12]\n",
      " [ -4.36971197e-03  -1.99687518e-02   3.79914860e-03 ...,  -1.44044754e-09\n",
      "    2.90951931e-07  -2.46683468e-12]\n",
      " [ -5.51284105e-03  -1.95681173e-02   2.98191258e-03 ...,   2.01454164e-09\n",
      "   -2.11024556e-07   9.38451573e-13]]\n",
      "164\n",
      "7890\n",
      "2048\n",
      "2048\n"
     ]
    }
   ],
   "source": [
    "{frame_arr = librosa.util.frame(y, frame_length=2048, hop_length=512)\n",
    "frame_arr2 = librosa.util.frame(y2, frame_length=2048, hop_length=512)\n",
    "print( frame_arr )\n",
    "print( frame_arr2 )\n",
    "\n",
    "print( len( frame_arr[0] ) )\n",
    "print( len( frame_arr2[0] ) )\n",
    "\n",
    "print( len( frame_arr ) )\n",
    "print( len( frame_arr2 ) )}"
   ]
  },
  {
   "cell_type": "code",
   "execution_count": 17,
   "metadata": {},
   "outputs": [
    {
     "data": {
      "text/plain": [
       "<matplotlib.collections.PolyCollection at 0x10e2bf9e8>"
      ]
     },
     "execution_count": 17,
     "metadata": {},
     "output_type": "execute_result"
    },
    {
     "data": {
      "image/png": "[encoded data removed]",
      "text/plain": [
       "<matplotlib.figure.Figure at 0x10d7e3198>"
      ]
     },
     "metadata": {},
     "output_type": "display_data"
    }
   ],
   "source": [
    "librosa.display.waveplot( y )"
   ]
  },
  {
   "cell_type": "code",
   "execution_count": 20,
   "metadata": {
    "scrolled": true
   },
   "outputs": [
    {
     "data": {
      "text/plain": [
       "<matplotlib.collections.PolyCollection at 0x1115cd9b0>"
      ]
     },
     "execution_count": 20,
     "metadata": {},
     "output_type": "execute_result"
    },
    {
     "data": {
      "image/png": "[encoded data removed]",
      "text/plain": [
       "<matplotlib.figure.Figure at 0x10e22dfd0>"
      ]
     },
     "metadata": {},
     "output_type": "display_data"
    }
   ],
   "source": [
    "librosa.display.waveplot( y2 )"
   ]
  },
  {
   "cell_type": "code",
   "execution_count": null,
   "metadata": {
    "collapsed": true
   },
   "outputs": [],
   "source": [
    "sim = scipy.spatial.distance.cosine( frame_arr[0], frame_arr2[0] )\n",
    "print( sim )"
   ]
  }
 ],
 "metadata": {
  "kernelspec": {
   "display_name": "Python 3",
   "language": "python",
   "name": "python3"
  },
  "language_info": {
   "codemirror_mode": {
    "name": "ipython",
    "version": 3
   },
   "file_extension": ".py",
   "mimetype": "text/x-python",
   "name": "python",
   "nbconvert_exporter": "python",
   "pygments_lexer": "ipython3",
   "version": "3.5.2"
  }
 },
 "nbformat": 4,
 "nbformat_minor": 2
}
