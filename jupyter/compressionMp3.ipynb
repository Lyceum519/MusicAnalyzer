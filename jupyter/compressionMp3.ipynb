{
 "cells": [
  {
   "cell_type": "code",
   "execution_count": 43,
   "metadata": {},
   "outputs": [
    {
     "name": "stdout",
     "output_type": "stream",
     "text": [
      "21000\n",
      "5000\n",
      "24506\n",
      "5000\n",
      "8400\n",
      "5000\n",
      "7104\n",
      "5000\n",
      "39424\n",
      "5000\n",
      "20354\n",
      "5000\n",
      "15265\n",
      "5000\n",
      "72765\n",
      "4999\n",
      "19845\n",
      "5000\n",
      "19845\n",
      "5000\n",
      "59535\n",
      "5000\n",
      "25449\n",
      "5000\n"
     ]
    },
    {
     "data": {
      "text/html": [
       "\n",
       "                <audio controls=\"controls\" >\n",
       "                    <source src=\"data:audio/wav;base64,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\" type=\"audio/wav\" />\n",
       "                    Your browser does not support the audio element.\n",
       "                </audio>\n",
       "              "
      ],
      "text/plain": [
       "<IPython.lib.display.Audio object>"
      ]
     },
     "execution_count": 43,
     "metadata": {},
     "output_type": "execute_result"
    }
   ],
   "source": [
    "import numpy as np\n",
    "import scipy\n",
    "import os\n",
    "\n",
    "# and IPython.display for audio output\n",
    "import IPython.display\n",
    "\n",
    "\n",
    "# Librosa for audio\n",
    "import librosa\n",
    "# And the display module for visualization\n",
    "import librosa.display\n",
    "\n",
    "# Search audio files in audio directory\n",
    "def search(dirname):\n",
    "    try:\n",
    "        global filenames\n",
    "        filenames = os.listdir(dirname)\n",
    "    except PermissionError:\n",
    "        pass\n",
    "\n",
    "search(\"/Users/wonyeong91/Documents/GIT/MusicAnalyzer/audio/kick/\")\n",
    "\n",
    "# check continuos zero value of sample at start and end\n",
    "def filterZero(yData):\n",
    "    res = []\n",
    "    firstZero = 0\n",
    "    lastZero = -1\n",
    "    for i in range( 0, len( yData ) ):\n",
    "        if(yData[i] == 0 or (yData[i]< 7.62939e-04 and yData[i]>-7.62939e-04)):\n",
    "            if(lastZero == -1):\n",
    "                firstZero += 1\n",
    "            else:\n",
    "                lastZero += 1\n",
    "        else:\n",
    "            lastZero = 1\n",
    "        res = yData[firstZero:len(yData)-lastZero]\n",
    "    return res\n",
    "\n",
    "\n",
    "                \n",
    "                \n",
    "for filename in filenames:\n",
    "    audio_path = os.path.join(\"/Users/wonyeong91/Documents/GIT/MusicAnalyzer/audio/kick/\", filename)\n",
    "    ext = os.path.splitext(audio_path)[-1]\n",
    "    if ext == '.wav': \n",
    "        sr44100 = 44100\n",
    "        y, sr = librosa.load( audio_path, sr=sr44100 )\n",
    "        newY = filterZero(y)\n",
    "        newSr = len44100 * 5000 / len( newY )\n",
    "        librosa.output.write_wav('test.wav', newY, sr44100)\n",
    "        y2, sr2 = librosa.load('test.wav', sr=newSr )\n",
    "\n",
    "        print(len(y))\n",
    "        print(len(y2))\n",
    "        librosa.output.write_wav('test.mp3', y2, sr2)\n",
    "\n",
    "#if(len(y)>5000):\n",
    "     \n",
    "    \n",
    "IPython.display.Audio(data=y2, rate=sr2)"
   ]
  },
  {
   "cell_type": "code",
   "execution_count": null,
   "metadata": {
    "collapsed": true
   },
   "outputs": [],
   "source": []
  }
 ],
 "metadata": {
  "kernelspec": {
   "display_name": "Python 3",
   "language": "python",
   "name": "python3"
  },
  "language_info": {
   "codemirror_mode": {
    "name": "ipython",
    "version": 3
   },
   "file_extension": ".py",
   "mimetype": "text/x-python",
   "name": "python",
   "nbconvert_exporter": "python",
   "pygments_lexer": "ipython3",
   "version": "3.6.1"
  }
 },
 "nbformat": 4,
 "nbformat_minor": 2
}
