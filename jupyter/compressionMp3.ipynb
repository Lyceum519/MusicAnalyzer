{
 "cells": [
  {
   "cell_type": "code",
   "execution_count": 32,
   "metadata": {},
   "outputs": [
    {
     "name": "stdout",
     "output_type": "stream",
     "text": [
      "21000\n",
      "5000\n",
      "('sr2', 13429)\n",
      "106290__pder__mein-kick-1.wav\n"
     ]
    },
    {
     "ename": "ParameterError",
     "evalue": "Audio buffer is not finite everywhere",
     "output_type": "error",
     "traceback": [
      "\u001b[0;31m---------------------------------------------------------------------------\u001b[0m",
      "\u001b[0;31mParameterError\u001b[0m                            Traceback (most recent call last)",
      "\u001b[0;32m<ipython-input-32-667ac308c8da>\u001b[0m in \u001b[0;36m<module>\u001b[0;34m()\u001b[0m\n\u001b[1;32m     70\u001b[0m             \u001b[0;32mif\u001b[0m\u001b[0;34m(\u001b[0m\u001b[0my2\u001b[0m\u001b[0;34m[\u001b[0m\u001b[0mi\u001b[0m\u001b[0;34m]\u001b[0m\u001b[0;34m/\u001b[0m\u001b[0mlen\u001b[0m\u001b[0;34m(\u001b[0m\u001b[0mfilenames\u001b[0m\u001b[0;34m)\u001b[0m \u001b[0;34m>\u001b[0m \u001b[0;36m0.9\u001b[0m \u001b[0;34m)\u001b[0m \u001b[0;34m:\u001b[0m\u001b[0;34m\u001b[0m\u001b[0m\n\u001b[1;32m     71\u001b[0m                 \u001b[0;32mprint\u001b[0m\u001b[0;34m(\u001b[0m\u001b[0;34m\"over value : \"\u001b[0m\u001b[0;34m,\u001b[0m \u001b[0maverageY\u001b[0m\u001b[0;34m[\u001b[0m\u001b[0mi\u001b[0m\u001b[0;34m]\u001b[0m\u001b[0;34m,\u001b[0m \u001b[0my2\u001b[0m\u001b[0;34m[\u001b[0m\u001b[0mi\u001b[0m\u001b[0;34m]\u001b[0m\u001b[0;34m,\u001b[0m \u001b[0mlen\u001b[0m\u001b[0;34m(\u001b[0m\u001b[0mfilenames\u001b[0m\u001b[0;34m)\u001b[0m\u001b[0;34m)\u001b[0m\u001b[0;34m\u001b[0m\u001b[0m\n\u001b[0;32m---> 72\u001b[0;31m         \u001b[0mlibrosa\u001b[0m\u001b[0;34m.\u001b[0m\u001b[0moutput\u001b[0m\u001b[0;34m.\u001b[0m\u001b[0mwrite_wav\u001b[0m\u001b[0;34m(\u001b[0m\u001b[0;34m'average.wav'\u001b[0m\u001b[0;34m,\u001b[0m \u001b[0maverageY\u001b[0m\u001b[0;34m,\u001b[0m \u001b[0msr44100\u001b[0m\u001b[0;34m)\u001b[0m\u001b[0;34m\u001b[0m\u001b[0m\n\u001b[0m\u001b[1;32m     73\u001b[0m \u001b[0;34m\u001b[0m\u001b[0m\n\u001b[1;32m     74\u001b[0m \u001b[0;31m#if(len(y)>5000):\u001b[0m\u001b[0;34m\u001b[0m\u001b[0;34m\u001b[0m\u001b[0m\n",
      "\u001b[0;32m/Users/wonyeong91/anaconda/lib/python2.7/site-packages/librosa/output.pyc\u001b[0m in \u001b[0;36mwrite_wav\u001b[0;34m(path, y, sr, norm)\u001b[0m\n\u001b[1;32m    214\u001b[0m \u001b[0;34m\u001b[0m\u001b[0m\n\u001b[1;32m    215\u001b[0m     \u001b[0;31m# Validate the buffer.  Stereo is okay here.\u001b[0m\u001b[0;34m\u001b[0m\u001b[0;34m\u001b[0m\u001b[0m\n\u001b[0;32m--> 216\u001b[0;31m     \u001b[0mutil\u001b[0m\u001b[0;34m.\u001b[0m\u001b[0mvalid_audio\u001b[0m\u001b[0;34m(\u001b[0m\u001b[0my\u001b[0m\u001b[0;34m,\u001b[0m \u001b[0mmono\u001b[0m\u001b[0;34m=\u001b[0m\u001b[0mFalse\u001b[0m\u001b[0;34m)\u001b[0m\u001b[0;34m\u001b[0m\u001b[0m\n\u001b[0m\u001b[1;32m    217\u001b[0m \u001b[0;34m\u001b[0m\u001b[0m\n\u001b[1;32m    218\u001b[0m     \u001b[0;31m# normalize\u001b[0m\u001b[0;34m\u001b[0m\u001b[0;34m\u001b[0m\u001b[0m\n",
      "\u001b[0;32m/Users/wonyeong91/anaconda/lib/python2.7/site-packages/librosa/util/utils.pyc\u001b[0m in \u001b[0;36mvalid_audio\u001b[0;34m(y, mono)\u001b[0m\n\u001b[1;32m    155\u001b[0m \u001b[0;34m\u001b[0m\u001b[0m\n\u001b[1;32m    156\u001b[0m     \u001b[0;32mif\u001b[0m \u001b[0;32mnot\u001b[0m \u001b[0mnp\u001b[0m\u001b[0;34m.\u001b[0m\u001b[0misfinite\u001b[0m\u001b[0;34m(\u001b[0m\u001b[0my\u001b[0m\u001b[0;34m)\u001b[0m\u001b[0;34m.\u001b[0m\u001b[0mall\u001b[0m\u001b[0;34m(\u001b[0m\u001b[0;34m)\u001b[0m\u001b[0;34m:\u001b[0m\u001b[0;34m\u001b[0m\u001b[0m\n\u001b[0;32m--> 157\u001b[0;31m         \u001b[0;32mraise\u001b[0m \u001b[0mParameterError\u001b[0m\u001b[0;34m(\u001b[0m\u001b[0;34m'Audio buffer is not finite everywhere'\u001b[0m\u001b[0;34m)\u001b[0m\u001b[0;34m\u001b[0m\u001b[0m\n\u001b[0m\u001b[1;32m    158\u001b[0m \u001b[0;34m\u001b[0m\u001b[0m\n\u001b[1;32m    159\u001b[0m     \u001b[0;32mreturn\u001b[0m \u001b[0mTrue\u001b[0m\u001b[0;34m\u001b[0m\u001b[0m\n",
      "\u001b[0;31mParameterError\u001b[0m: Audio buffer is not finite everywhere"
     ]
    }
   ],
   "source": [
    "import numpy as np\n",
    "import scipy\n",
    "import os\n",
    "\n",
    "# and IPython.display for audio output\n",
    "import IPython.display\n",
    "\n",
    "# matplotlib for displaying the output\n",
    "import matplotlib.pyplot as plt\n",
    "import matplotlib.style as ms\n",
    "ms.use('seaborn-muted')\n",
    "%matplotlib inline\n",
    "\n",
    "\n",
    "# Librosa for audio\n",
    "import librosa\n",
    "# And the display module for visualization\n",
    "import librosa.display\n",
    "\n",
    "# Search audio files in audio directory\n",
    "def search(dirname):\n",
    "    try:\n",
    "        global filenames\n",
    "        filenames = os.listdir(dirname)\n",
    "    except PermissionError:\n",
    "        pass\n",
    "\n",
    "search(\"/Users/wonyeong91/Documents/GIT/MusicAnalyzer/audio/kick/\")\n",
    "\n",
    "\n",
    "# check continuos zero value of sample at start and end\n",
    "def filterZero(yData):\n",
    "    res = []\n",
    "    firstZero = 0\n",
    "    lastZero = -1\n",
    "    for i in range( 0, len( yData ) ):\n",
    "        if(yData[i] == 0 or (yData[i]< 7.62939e-04 and yData[i]>-7.62939e-04)):\n",
    "            if(lastZero == -1):\n",
    "                firstZero += 1\n",
    "            else:\n",
    "                lastZero += 1\n",
    "        else:\n",
    "            lastZero = 1\n",
    "        res = yData[firstZero:len(yData)-lastZero]\n",
    "    return res\n",
    "\n",
    "\n",
    "averageY = np.empty(shape=(5000, 1))    \n",
    "                \n",
    "for filename in filenames:\n",
    "    audio_path = os.path.join(\"/Users/wonyeong91/Documents/GIT/MusicAnalyzer/audio/kick/\", filename)\n",
    "    ext = os.path.splitext(audio_path)[-1]\n",
    "    if ext == '.wav': \n",
    "        sr44100 = 44100\n",
    "        y, sr = librosa.load( audio_path, sr=sr44100 )\n",
    "        newY = filterZero(y)\n",
    "        newSr = sr44100 * 5000 / len( newY )\n",
    "        librosa.output.write_wav('test.wav', newY, sr44100)\n",
    "        y2, sr2 = librosa.load('test.wav', sr=newSr )\n",
    "\n",
    "        print(len(y))\n",
    "        print(len(y2))\n",
    "        print(\"sr2\", sr2)\n",
    "\n",
    "        print(filename)\n",
    "        \n",
    "        #generate averageY\n",
    "        for i in range( 0, len(y2) ) :\n",
    "            averageY[i] = averageY[i] + y2[i]/len(filenames)\n",
    "            if(y2[i]/len(filenames) > 0.9 ) :\n",
    "                print(\"over value : \", averageY[i], y2[i], len(filenames))\n",
    "        librosa.output.write_wav('average.wav', averageY, sr44100)\n",
    "\n",
    "#if(len(y)>5000):\n",
    "     \n",
    "averageY2, averageSr = librosa.load('average.wav', sr=44100 )\n",
    "librosa.display.waveplot( averageY2, 44100 )\n",
    "\n",
    "\n",
    "\n",
    "\n",
    "\n",
    "audio_path = os.path.join(\"/Users/wonyeong91/Documents/GIT/MusicAnalyzer/audio/\", \"Odesza_Above_The_Middle.mp3\")\n",
    "y, sr = librosa.load( audio_path, sr=sr44100 )\n",
    "librosa.output.write_wav('test.mp3', y, 10000)\n",
    "\n",
    "\n",
    "\n",
    "IPython.display.Audio(data=averageY2, rate=44100)"
   ]
  },
  {
   "cell_type": "code",
   "execution_count": null,
   "metadata": {
    "collapsed": true
   },
   "outputs": [],
   "source": []
  }
 ],
 "metadata": {
  "kernelspec": {
   "display_name": "Python 2",
   "language": "python",
   "name": "python2"
  },
  "language_info": {
   "codemirror_mode": {
    "name": "ipython",
    "version": 2
   },
   "file_extension": ".py",
   "mimetype": "text/x-python",
   "name": "python",
   "nbconvert_exporter": "python",
   "pygments_lexer": "ipython2",
   "version": "2.7.13"
  }
 },
 "nbformat": 4,
 "nbformat_minor": 2
}
