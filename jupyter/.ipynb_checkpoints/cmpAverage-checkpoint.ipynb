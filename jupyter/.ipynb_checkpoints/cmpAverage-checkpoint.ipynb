{
 "cells": [
  {
   "cell_type": "code",
   "execution_count": 70,
   "metadata": {},
   "outputs": [
    {
     "name": "stdout",
     "output_type": "stream",
     "text": [
      "364966\n",
      "yeah 359965 0.687289051863\n",
      "0.0132199546485\n",
      "0.401156462585\n",
      "0.789070294785\n",
      "1.3064399093\n",
      "1.8235600907\n",
      "2.08219954649\n",
      "2.47011337868\n",
      "2.85804988662\n",
      "3.3753968254\n",
      "4.15115646259\n",
      "4.53909297052\n",
      "4.92700680272\n",
      "5.44437641723\n",
      "5.96149659864\n",
      "6.22011337868\n",
      "6.60804988662\n",
      "6.99596371882\n",
      "7.12526077098\n",
      "7.2546031746\n",
      "7.38392290249\n",
      "7.51342403628\n",
      "finish\n"
     ]
    },
    {
     "data": {
      "text/plain": [
       "<matplotlib.collections.PolyCollection at 0x11a8d9590>"
      ]
     },
     "execution_count": 70,
     "metadata": {},
     "output_type": "execute_result"
    },
    {
     "data": {
      "image/png": "[encoded data removed]",
      "text/plain": [
       "<matplotlib.figure.Figure at 0x11afd3a10>"
      ]
     },
     "metadata": {},
     "output_type": "display_data"
    }
   ],
   "source": [
    "from __future__ import print_function\n",
    "\n",
    "# We'll need numpy for some mathematical operations\n",
    "import numpy as np\n",
    "import scipy\n",
    "import os\n",
    "\n",
    "# matplotlib for displaying the output\n",
    "import matplotlib.pyplot as plt\n",
    "import matplotlib.style as ms\n",
    "ms.use('seaborn-muted')\n",
    "%matplotlib inline\n",
    "\n",
    "\n",
    "# and IPython.display for audio output\n",
    "import IPython.display\n",
    "\n",
    "\n",
    "# Librosa for audio\n",
    "import librosa\n",
    "# And the display module for visualization\n",
    "import librosa.display\n",
    "\n",
    "\n",
    "audio_path = \"../audio/Electro-loop-120-bpm.wav\"\n",
    "audio_path2 = \"../audio/average.wav\"\n",
    "audio_path = \"../Hip-hop-drum-beat-116-bpm.wav\"\n",
    "\n",
    "song, songSr = librosa.load( audio_path, sr=44100 )\n",
    "kick, kickSr = librosa.load( audio_path2, sr=44100)\n",
    "\n",
    "# cosY : cosine similarity of y and y2\n",
    "# res : array of expected fit time\n",
    "cosY = []\n",
    "res = []\n",
    "\n",
    "print(len(y))\n",
    "\n",
    "global min\n",
    "min = 10\n",
    "\n",
    "for i in range(0, len(song) - len(kick)) :\n",
    "    cosY.append(scipy.spatial.distance.cosine( song[i:i+len(kick)], kick[0:len(kick)]))\n",
    "    if(cosY[i] < min) :\n",
    "        min = cosY[i]\n",
    "print(\"yeah\" , i, min)\n",
    "\n",
    "\n",
    "# find expected point\n",
    "global index\n",
    "index = -1\n",
    "\n",
    "for i in range(0, len(song) - len(kick)) :\n",
    "    if(abs(cosY[i] - min) < 0.02) :\n",
    "        if(index == -1) :\n",
    "            index = i\n",
    "            res.append(i)            \n",
    "        elif(i-index>1) :\n",
    "            index = i\n",
    "            res.append(i)\n",
    "        else : \n",
    "            index = i\n",
    "\n",
    "        \n",
    "# print expected time\n",
    "for i in range(0, len(res)) :\n",
    "    print(float(res[i])/44100)\n",
    "\n",
    "    \n",
    "print(\"finish\")\n",
    "\n",
    "librosa.display.waveplot( y, 44100 )\n",
    "#librosa.display.waveplot( y2, 44100)\n",
    "    "
   ]
  },
  {
   "cell_type": "markdown",
   "metadata": {
    "collapsed": true
   },
   "source": [
    "### "
   ]
  }
 ],
 "metadata": {
  "kernelspec": {
   "display_name": "Python 3",
   "language": "python",
   "name": "python3"
  },
  "language_info": {
   "codemirror_mode": {
    "name": "ipython",
    "version": 3
   },
   "file_extension": ".py",
   "mimetype": "text/x-python",
   "name": "python",
   "nbconvert_exporter": "python",
   "pygments_lexer": "ipython3",
   "version": "3.6.1"
  }
 },
 "nbformat": 4,
 "nbformat_minor": 2
}
